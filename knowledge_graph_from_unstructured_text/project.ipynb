{
 "cells": [
  {
   "cell_type": "markdown",
   "metadata": {},
   "source": [
    "1. Select a Sloka: Choose the specific sloka from the Ramayana that you want to analyze and represent in the knowledge graph. Ensure you have the text of the sloka."
   ]
  },
  {
   "cell_type": "markdown",
   "metadata": {},
   "source": [
    "2. Natural Language Processing (NLP): Use NLP tools or libraries to perform the following tasks:\n",
    "\n",
    "Tokenization: Break the sloka into individual words or tokens.\n",
    "Part-of-Speech (POS) Tagging: Tag each word with its grammatical category (noun, verb, etc.).\n",
    "Named Entity Recognition (NER): Identify and classify named entities (e.g., names of people, places, and things).\n",
    "Dependency Parsing: Analyze the grammatical structure of the sloka to identify relationships between words (e.g., subject-verb-object relationships)."
   ]
  },
  {
   "cell_type": "code",
   "execution_count": 1,
   "metadata": {},
   "outputs": [
    {
     "name": "stderr",
     "output_type": "stream",
     "text": [
      "c:\\Users\\subham\\AppData\\Local\\Programs\\Python\\Python310\\lib\\site-packages\\spacy\\util.py:910: UserWarning: [W095] Model 'en_core_web_sm' (3.4.1) was trained with spaCy v3.4.0 and may not be 100% compatible with the current version (3.7.1). If you see errors or degraded performance, download a newer compatible model or retrain your custom model with the current spaCy version. For more details and available updates, run: python -m spacy validate\n",
      "  warnings.warn(warn_msg)\n"
     ]
    },
    {
     "name": "stdout",
     "output_type": "stream",
     "text": [
      "Entities:\n",
      "Rama: NER - GPE\n",
      "Dandaka: NER - GPE\n",
      "\n",
      "POS Tags:\n",
      "The: DET\n",
      "invincible: ADJ\n",
      "and: CCONJ\n",
      "self: NOUN\n",
      "-: PUNCT\n",
      "possessed: VERB\n",
      "Rama: PROPN\n",
      "entered: VERB\n",
      "the: DET\n",
      "great: ADJ\n",
      "forest: NOUN\n",
      "of: ADP\n",
      "Dandaka: PROPN\n",
      "and: CCONJ\n",
      "saw: VERB\n",
      "there: ADV\n",
      "a: DET\n",
      "multitude: NOUN\n",
      "of: ADP\n",
      "hermitages: NOUN\n",
      "of: ADP\n",
      "the: DET\n",
      "ascetics: NOUN\n",
      ".: PUNCT\n",
      "\n",
      "Relationships:\n",
      "[('Rama', 'GPE'), ('Dandaka', 'GPE')]\n"
     ]
    }
   ],
   "source": [
    "import spacy\n",
    "\n",
    "# Load the English NLP model\n",
    "nlp = spacy.load(\"en_core_web_sm\")\n",
    "\n",
    "# Sloka text\n",
    "sloka = \"The invincible and self-possessed Rama entered the great forest of Dandaka and saw there a multitude of hermitages of the ascetics.\"\n",
    "\n",
    "# Process the sloka text with spaCy\n",
    "doc = nlp(sloka)\n",
    "\n",
    "# Initialize variables to store entities, POS tags, and relationships\n",
    "entities = []\n",
    "pos_tags = []\n",
    "relationships = []\n",
    "\n",
    "# Iterate through the processed tokens\n",
    "for token in doc:\n",
    "    # Extract named entities\n",
    "    if token.ent_type_:\n",
    "        entities.append((token.text, token.ent_type_))\n",
    "    \n",
    "    # Extract POS tags\n",
    "    pos_tags.append((token.text, token.pos_))\n",
    "\n",
    "# Extract relationships (subject-verb-object relationships)\n",
    "for token in doc:\n",
    "    if \"subj\" in token.dep_:\n",
    "        subject = token.text\n",
    "        verb = token.head.text\n",
    "        for child in token.children:\n",
    "            if \"obj\" in child.dep_:\n",
    "                obj = child.text\n",
    "                relationships.append((subject, verb, obj))\n",
    "\n",
    "# Display the entities, POS tags, and relationships\n",
    "print(\"Entities:\")\n",
    "for entity, entity_type in entities:\n",
    "    print(f\"{entity}: NER - {entity_type}\")\n",
    "\n",
    "print(\"\\nPOS Tags:\")\n",
    "for word, pos_tag in pos_tags:\n",
    "    print(f\"{word}: {pos_tag}\")\n",
    "\n",
    "print(\"\\nRelationships:\")\n",
    "for subj, verb, obj in relationships:\n",
    "    print(f\"{subj} {verb} {obj}\")\n",
    "\n",
    "print(entities)\n"
   ]
  },
  {
   "cell_type": "markdown",
   "metadata": {},
   "source": [
    "3. Create a Data Structure: Use the output of the NLP analysis to create a structured data representation of the sloka. This representation should include the entities, their POS tags, and the identified relationships."
   ]
  },
  {
   "cell_type": "markdown",
   "metadata": {},
   "source": [
    "4. Knowledge Graph Representation: Now, you can represent this structured data as a knowledge graph. You can use graph database tools like Neo4j or visualization libraries like Graphviz to create the graph.\n",
    "\n",
    "Nodes: Create nodes for each entity, assigning properties such as the entity name, POS tag, and NER category.\n",
    "Edges: Create edges to represent the relationships between entities. These relationships might include \"subject,\" \"verb,\" \"object,\" or any other relevant relationship in the sloka."
   ]
  },
  {
   "cell_type": "code",
   "execution_count": 2,
   "metadata": {},
   "outputs": [
    {
     "name": "stdout",
     "output_type": "stream",
     "text": [
      "Entities:\n",
      "- Rama: NER - GPE\n",
      "- Dandaka: NER - GPE\n",
      "\n",
      "POS Tags:\n",
      "- The: DET\n",
      "- invincible: ADJ\n",
      "- and: CCONJ\n",
      "- self: NOUN\n",
      "- -: PUNCT\n",
      "- possessed: VERB\n",
      "- Rama: PROPN\n",
      "- entered: VERB\n",
      "- the: DET\n",
      "- great: ADJ\n",
      "- forest: NOUN\n",
      "- of: ADP\n",
      "- Dandaka: PROPN\n",
      "- and: CCONJ\n",
      "- saw: VERB\n",
      "- there: ADV\n",
      "- a: DET\n",
      "- multitude: NOUN\n",
      "- of: ADP\n",
      "- hermitages: NOUN\n",
      "- of: ADP\n",
      "- the: DET\n",
      "- ascetics: NOUN\n",
      "- .: PUNCT\n",
      "\n",
      "Relationships:\n",
      "\n"
     ]
    }
   ],
   "source": [
    "# Define a function to create a textual knowledge graph representation\n",
    "def create_knowledge_graph(sloka, entities, pos_tags, relationships):\n",
    "    knowledge_graph = \"\"\n",
    "    \n",
    "    knowledge_graph += \"Entities:\\n\"\n",
    "    for entity, entity_type in entities:\n",
    "        if entity_type:\n",
    "            knowledge_graph += f\"- {entity}: NER - {entity_type}\\n\"\n",
    "        else:\n",
    "            knowledge_graph += f\"- {entity}\\n\"\n",
    "    \n",
    "    knowledge_graph += \"\\nPOS Tags:\\n\"\n",
    "    for word, pos_tag in pos_tags:\n",
    "        knowledge_graph += f\"- {word}: {pos_tag}\\n\"\n",
    "    \n",
    "    knowledge_graph += \"\\nRelationships:\\n\"\n",
    "    for subj, verb, obj in relationships:\n",
    "        knowledge_graph += f\"- {subj} {verb} {obj}\\n\"\n",
    "    \n",
    "    return knowledge_graph\n",
    "\n",
    "# Call the function to create the knowledge graph representation\n",
    "knowledge_graph = create_knowledge_graph(sloka, entities, pos_tags, relationships)\n",
    "\n",
    "# Display the knowledge graph representation\n",
    "print(knowledge_graph)\n"
   ]
  },
  {
   "cell_type": "markdown",
   "metadata": {},
   "source": [
    "5. Visualization: Use a tool to visualize the knowledge graph. There are various options available for graph visualization, such as Neo4j's visualization capabilities or other graph visualization libraries."
   ]
  },
  {
   "cell_type": "code",
   "execution_count": 3,
   "metadata": {},
   "outputs": [
    {
     "data": {
      "text/plain": [
       "'knowledge_graph.pdf'"
      ]
     },
     "execution_count": 3,
     "metadata": {},
     "output_type": "execute_result"
    }
   ],
   "source": [
    "from graphviz import Digraph\n",
    "\n",
    "# Create a Graphviz Digraph\n",
    "dot = Digraph()\n",
    "\n",
    "# Add nodes and edges based on relationships\n",
    "for subj, verb, obj in relationships:\n",
    "    dot.node(subj)\n",
    "    dot.node(obj)\n",
    "    dot.edge(subj, obj, label=verb)\n",
    "\n",
    "# Render and display the graph\n",
    "# dot.format = 'png'  # or 'svg'\n",
    "dot.render('knowledge_graph', view=True)\n"
   ]
  }
 ],
 "metadata": {
  "kernelspec": {
   "display_name": "Python 3",
   "language": "python",
   "name": "python3"
  },
  "language_info": {
   "codemirror_mode": {
    "name": "ipython",
    "version": 3
   },
   "file_extension": ".py",
   "mimetype": "text/x-python",
   "name": "python",
   "nbconvert_exporter": "python",
   "pygments_lexer": "ipython3",
   "version": "3.10.7"
  }
 },
 "nbformat": 4,
 "nbformat_minor": 2
}
